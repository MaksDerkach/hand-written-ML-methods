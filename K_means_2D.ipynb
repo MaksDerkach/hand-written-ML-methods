{
  "nbformat": 4,
  "nbformat_minor": 0,
  "metadata": {
    "colab": {
      "name": "K-means 2D.ipynb",
      "provenance": [],
      "collapsed_sections": [],
      "authorship_tag": "ABX9TyPLf3jg5P9QnN1Iy9D4bAYH"
    },
    "kernelspec": {
      "name": "python3",
      "display_name": "Python 3"
    },
    "language_info": {
      "name": "python"
    }
  },
  "cells": [
    {
      "cell_type": "code",
      "metadata": {
        "id": "A6hMKYChVPGx"
      },
      "source": [
        "# импорт библиотек\n",
        "import numpy as np\n",
        "import matplotlib.pyplot as plt"
      ],
      "execution_count": 1,
      "outputs": []
    },
    {
      "cell_type": "markdown",
      "metadata": {
        "id": "iEdPyYcXVlNi"
      },
      "source": [
        "Зададим основные параметры выборки и сгенерируем данные:"
      ]
    },
    {
      "cell_type": "code",
      "metadata": {
        "id": "a_sQBVJXVh-2",
        "colab": {
          "base_uri": "https://localhost:8080/",
          "height": 266
        },
        "outputId": "09e05a1a-31f7-4dd7-f146-d652c2f68683"
      },
      "source": [
        "num_clusters = 3 # количество кластеров\n",
        "cluster_size = 40 # количество точек в кластере\n",
        "\n",
        "cluster_x = [1.0, 1.4, 1.7] # координаты кластеров по х\n",
        "cluster_y = [0.4, 0.5, 0.2] # координаты кластеров по y\n",
        "std = 0.1\n",
        "\n",
        "\n",
        "def generate_points(num_cluster, cluster_size, std, centers_x, centers_y):\n",
        "    '''\n",
        "    @param num_cluster: количество кластеров в выборке\n",
        "    @param cluster_size: размер кластера\n",
        "    @param std: среднеквадратичное отклонение\n",
        "    @param centers_x: координата центров кластеров по оси Х\n",
        "    @param centers_y: координата центров кластеров по оси У\n",
        "    '''\n",
        "    # список для хранения координат точек\n",
        "    points = []\n",
        "\n",
        "    # генерация точек\n",
        "    for cluster in range(num_clusters):\n",
        "        for point in range(cluster_size):\n",
        "            x_i = np.random.normal(loc=centers_x[cluster], scale=std)\n",
        "            y_i = np.random.normal(loc=centers_y[cluster], scale=std)\n",
        "            points.append((x_i, y_i))\n",
        "\n",
        "    points = np.array(points)\n",
        "\n",
        "    return points\n",
        "\n",
        "points = generate_points(num_clusters, cluster_size, std, cluster_x, cluster_y)\n",
        "\n",
        "# построение точек, распределённых по кластерам\n",
        "colors = ['r'] * cluster_size + ['g'] * cluster_size + ['b'] * cluster_size\n",
        "plt.scatter(x=points[:,0], y=points[:,1], c=colors)\n",
        "plt.scatter(x=cluster_x, y=cluster_y, c=['r', 'g', 'b'], marker='x')\n",
        "plt.show()"
      ],
      "execution_count": 2,
      "outputs": [
        {
          "output_type": "display_data",
          "data": {
            "image/png": "[encoded data removed]",
            "text/plain": [
              "<Figure size 432x288 with 1 Axes>"
            ]
          },
          "metadata": {
            "needs_background": "light"
          }
        }
      ]
    },
    {
      "cell_type": "markdown",
      "metadata": {
        "id": "G34q5lMcbtob"
      },
      "source": [
        "Реализация алгоритма K-means:"
      ]
    },
    {
      "cell_type": "code",
      "metadata": {
        "id": "gDEbHUxSaEat"
      },
      "source": [
        "def k_means(points, num_clusters):\n",
        "    '''\n",
        "    @param points: список из пар координат точек\n",
        "    @param num_clusters: число кластеров, на которое необходимо поделить выборку\n",
        "\n",
        "    @return: метки кластеров и их центры\n",
        "    '''\n",
        "    # функция построения точек, распределённых по кластерам\n",
        "    def print_clusters(n_iteration, points, result=None, centers=None):\n",
        "        pass\n",
        "    \n",
        "    def euclid_distance(points, centers):\n",
        "        pass\n",
        "\n",
        "    centers = points[:num_clusters] # в качестве центров выбираем первые N точек\n",
        "    result = [-1] * len(points) # массив, элементы которого отвечают за пренадлежность к кластеру\n",
        "    prev_result = None # результат принадлежности элементов выборки к кластеру на прошлом шаге\n",
        "\n",
        "    # вывод начального результата\n",
        "    print_clusters()\n",
        "\n",
        "    n_iteration = 1\n",
        "\n",
        "    # работает до тех пор, пока кластеры не станут изменяться\n",
        "    while result != prev_result:\n",
        "        prev_result = result[:]\n",
        "        for point in points:\n",
        "            euclid()\n"
      ],
      "execution_count": 4,
      "outputs": []
    },
    {
      "cell_type": "code",
      "metadata": {
        "id": "78nnK4aOPGQt"
      },
      "source": [
        "a = np.array([[1, 2], [1, 4], [1, 6]])\n",
        "b = np.array([1, 3])"
      ],
      "execution_count": 17,
      "outputs": []
    },
    {
      "cell_type": "code",
      "metadata": {
        "colab": {
          "base_uri": "https://localhost:8080/",
          "height": 162
        },
        "id": "ohcMfSqhPdqh",
        "outputId": "77034f2e-5a6a-45b4-f5bc-dc5e19203155"
      },
      "source": [
        "((a - b)**2).sum(axis=1)"
      ],
      "execution_count": 25,
      "outputs": [
        {
          "output_type": "error",
          "ename": "AttributeError",
          "evalue": "ignored",
          "traceback": [
            "\u001b[0;31m---------------------------------------------------------------------------\u001b[0m",
            "\u001b[0;31mAttributeError\u001b[0m                            Traceback (most recent call last)",
            "\u001b[0;32m<ipython-input-25-5b30e3b4183b>\u001b[0m in \u001b[0;36m<module>\u001b[0;34m()\u001b[0m\n\u001b[0;32m----> 1\u001b[0;31m \u001b[0;34m(\u001b[0m\u001b[0;34m(\u001b[0m\u001b[0ma\u001b[0m \u001b[0;34m-\u001b[0m \u001b[0mb\u001b[0m\u001b[0;34m)\u001b[0m\u001b[0;34m**\u001b[0m\u001b[0;36m2\u001b[0m\u001b[0;34m)\u001b[0m\u001b[0;34m.\u001b[0m\u001b[0msum\u001b[0m\u001b[0;34m(\u001b[0m\u001b[0maxis\u001b[0m\u001b[0;34m=\u001b[0m\u001b[0;36m1\u001b[0m\u001b[0;34m)\u001b[0m\u001b[0;34m.\u001b[0m\u001b[0mpow\u001b[0m\u001b[0;34m(\u001b[0m\u001b[0;36m0.5\u001b[0m\u001b[0;34m)\u001b[0m\u001b[0;34m\u001b[0m\u001b[0;34m\u001b[0m\u001b[0m\n\u001b[0m",
            "\u001b[0;31mAttributeError\u001b[0m: 'numpy.ndarray' object has no attribute 'pow'"
          ]
        }
      ]
    },
    {
      "cell_type": "code",
      "metadata": {
        "colab": {
          "base_uri": "https://localhost:8080/"
        },
        "id": "qKGnZzSlP0Wt",
        "outputId": "36860b19-917e-4d49-f936-e7164b9c6dc9"
      },
      "source": [
        "((a - b)**2)"
      ],
      "execution_count": 19,
      "outputs": [
        {
          "output_type": "execute_result",
          "data": {
            "text/plain": [
              "array([[0, 1],\n",
              "       [0, 1],\n",
              "       [0, 9]])"
            ]
          },
          "metadata": {},
          "execution_count": 19
        }
      ]
    },
    {
      "cell_type": "code",
      "metadata": {
        "id": "Vc0VfyDXQk4-"
      },
      "source": [
        ""
      ],
      "execution_count": null,
      "outputs": []
    }
  ]
}