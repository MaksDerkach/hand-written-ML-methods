{
  "nbformat": 4,
  "nbformat_minor": 0,
  "metadata": {
    "colab": {
      "name": "KNN.ipynb",
      "provenance": [],
      "collapsed_sections": [],
      "authorship_tag": "ABX9TyMz5lLOCwipcZq1tUUn1nO/"
    },
    "kernelspec": {
      "name": "python3",
      "display_name": "Python 3"
    },
    "language_info": {
      "name": "python"
    }
  },
  "cells": [
    {
      "cell_type": "code",
      "metadata": {
        "id": "LH9acYUVt-ga"
      },
      "source": [
        "# импорт библиотек\n",
        "import numpy as np\n",
        "import matplotlib.pyplot as plt\n",
        "from sklearn.datasets import make_moons"
      ],
      "execution_count": 2,
      "outputs": []
    },
    {
      "cell_type": "code",
      "metadata": {
        "id": "fmqOii-8uQCd"
      },
      "source": [
        "class MyKNeighbourClassifier:\n",
        "    def __init__(self, n_neighbours: int = 5, metric: str = 'euclidean', weights: str = 'uniform'):\n",
        "        \n",
        "        # проверка на соответствие параметров\n",
        "        if metric not in ['euclidean', 'manhattan']:\n",
        "            raise ValueError(f'This type of metric is not supported: {metric}')\n",
        "        if weights not in ['uniform', 'distance']:\n",
        "            raise ValueError(f'This type of weights is not supported: {weights}')\n",
        "\n",
        "        self.n_neigbours = n_neighbours\n",
        "        self.metric = metric\n",
        "        self.weights = weights\n",
        "\n",
        "        self.X = None\n",
        "        self.y = None\n",
        "\n",
        "        def fit(X: np.ndarray, y: np.ndarray) -> None:\n",
        "            self.X = X\n",
        "            self.y = y\n",
        "\n",
        "        def predict(self, X: np.ndarray) -> np.ndarray:\n",
        "            result = []\n",
        "            for point in X:\n",
        "                # вычислим расстояние между тестовой точкой и всеми остальными\n",
        "                if metric = 'euclidean':\n",
        "                    distance = ((self.X - point) ** 2).sum(axis=1) ** 0.5\n",
        "                elif metric = 'manhattan':\n",
        "                    distance = abs(self.X - point).sum(axis=1)\n",
        "\n",
        "                # для каждого высчитанного расстояния добавим метку класса конкретной точки\n",
        "                points_with_dist = np.hstack((distance.reshape(-1, 1), self.y.reshape(-1, 1)))\n",
        "\n",
        "                # получим k-ближайших точек в отсортированном порядке\n",
        "                k_nearest = sorted(points_with_dist, key= lambda x: x[0])[:self.n_neighbours]"
      ],
      "execution_count": 4,
      "outputs": []
    },
    {
      "cell_type": "code",
      "metadata": {
        "colab": {
          "base_uri": "https://localhost:8080/"
        },
        "id": "wK_u4yan3d1f",
        "outputId": "667abb27-0da2-4999-f6c0-76fcaa08bd45"
      },
      "source": [
        "a = np.array([[1,2],[0, 0],[3, 4]])\n",
        "b = np.array([2,2])\n",
        "c = np.array([1,0, 2])\n",
        "(a - b)"
      ],
      "execution_count": 14,
      "outputs": [
        {
          "output_type": "execute_result",
          "data": {
            "text/plain": [
              "array([[-1,  0],\n",
              "       [-2, -2],\n",
              "       [ 1,  2]])"
            ]
          },
          "metadata": {},
          "execution_count": 14
        }
      ]
    },
    {
      "cell_type": "code",
      "metadata": {
        "colab": {
          "base_uri": "https://localhost:8080/"
        },
        "id": "JV8qwFv732x2",
        "outputId": "b03f0934-c7a8-41a9-edcc-4316c7bd723d"
      },
      "source": [
        "(a-b) ** 2"
      ],
      "execution_count": 8,
      "outputs": [
        {
          "output_type": "execute_result",
          "data": {
            "text/plain": [
              "array([[1, 0],\n",
              "       [4, 4],\n",
              "       [1, 4]])"
            ]
          },
          "metadata": {},
          "execution_count": 8
        }
      ]
    },
    {
      "cell_type": "code",
      "metadata": {
        "colab": {
          "base_uri": "https://localhost:8080/"
        },
        "id": "VsiTJe6e5w8M",
        "outputId": "0afee197-7dab-49bc-a480-579e9f8cfc21"
      },
      "source": [
        "((a-b) ** 2).sum(axis=1) ** 0.5"
      ],
      "execution_count": 10,
      "outputs": [
        {
          "output_type": "execute_result",
          "data": {
            "text/plain": [
              "array([1.        , 2.82842712, 2.23606798])"
            ]
          },
          "metadata": {},
          "execution_count": 10
        }
      ]
    },
    {
      "cell_type": "code",
      "metadata": {
        "colab": {
          "base_uri": "https://localhost:8080/"
        },
        "id": "p32D6quD59kl",
        "outputId": "b296b11d-922c-48c4-9b23-e54e61afe032"
      },
      "source": [
        "ans = (abs(a-b)).sum(axis=1).reshape(-1, 1)\n",
        "ans"
      ],
      "execution_count": 27,
      "outputs": [
        {
          "output_type": "execute_result",
          "data": {
            "text/plain": [
              "array([[1],\n",
              "       [4],\n",
              "       [3]])"
            ]
          },
          "metadata": {},
          "execution_count": 27
        }
      ]
    },
    {
      "cell_type": "code",
      "metadata": {
        "colab": {
          "base_uri": "https://localhost:8080/"
        },
        "id": "JIQ4bbN77rlP",
        "outputId": "78067c4b-a6ce-47fe-a5e8-f03faa4d2f3d"
      },
      "source": [
        "d = np.hstack((ans, c.reshape(-1, 1)))\n",
        "d"
      ],
      "execution_count": 28,
      "outputs": [
        {
          "output_type": "execute_result",
          "data": {
            "text/plain": [
              "array([[1, 1],\n",
              "       [4, 0],\n",
              "       [3, 2]])"
            ]
          },
          "metadata": {},
          "execution_count": 28
        }
      ]
    },
    {
      "cell_type": "code",
      "metadata": {
        "colab": {
          "base_uri": "https://localhost:8080/"
        },
        "id": "qbbkbFzw8GK3",
        "outputId": "f0696554-9ed9-4b36-d920-13a0ef28bee6"
      },
      "source": [
        "c"
      ],
      "execution_count": 26,
      "outputs": [
        {
          "output_type": "execute_result",
          "data": {
            "text/plain": [
              "array([1, 0, 2])"
            ]
          },
          "metadata": {},
          "execution_count": 26
        }
      ]
    },
    {
      "cell_type": "code",
      "metadata": {
        "id": "hUlTsI0w8vkf"
      },
      "source": [
        ""
      ],
      "execution_count": null,
      "outputs": []
    }
  ]
}